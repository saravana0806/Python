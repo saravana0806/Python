{
 "cells": [
  {
   "cell_type": "markdown",
   "id": "bc916cd5-ae14-4d1c-85b4-8a29c5ca2a4a",
   "metadata": {},
   "source": [
    "TKinter Applications"
   ]
  },
  {
   "cell_type": "code",
   "execution_count": null,
   "id": "c3a90e55-d32c-4150-b3a6-a5ade8967724",
   "metadata": {},
   "outputs": [],
   "source": [
    "import tkinter as tk\n",
    "from tkinter import messagebox"
   ]
  },
  {
   "cell_type": "code",
   "execution_count": 31,
   "id": "c2898580-71f1-4f4d-b853-97193bdc5d28",
   "metadata": {},
   "outputs": [],
   "source": [
    "app = tk.Tk()\n",
    "app.title(\"My Tkinter App\")\n",
    "app.geometry(\"400x300\") \n",
    "\n",
    "def on_button_click():\n",
    "    messagebox.showinfo(\"Button Clicked\", \"Hello, Tkinter!\")\n",
    "\n",
    "button = tk.Button(app, text=\"Click Me\", command=on_button_click)\n",
    "button.pack(pady=10,anchor=tk.CENTER)  #,side=tk.RIGHT,anchor=tk.N\n",
    "\n",
    "\n",
    "app.mainloop()"
   ]
  },
  {
   "cell_type": "code",
   "execution_count": 27,
   "id": "45dcb0a4-10a8-408c-ab20-5448c1aa8d77",
   "metadata": {},
   "outputs": [],
   "source": [
    "# tk.N (North): Aligns with the top side.\n",
    "#tk.S (South): Aligns with the bottom side.\n",
    "#tk.E (East): Aligns with the right side.\n",
    "#tk.W (West): Aligns with the left side.\n",
    "#tk.NE (Northeast): Aligns with the top-right corner.\n",
    "#tk.NW (Northwest): Aligns with the top-left corner.\n",
    "#tk.SE (Southeast): Aligns with the bottom-right corner.\n",
    "#tk.SW (Southwest): Aligns with the bottom-left corner.\n",
    "#tk.CENTER: Centers the widget within the available space."
   ]
  },
  {
   "cell_type": "code",
   "execution_count": 36,
   "id": "5593c68f-fb24-4515-9c7e-51ee4a35ffd3",
   "metadata": {},
   "outputs": [],
   "source": [
    "# Adding button and widgest "
   ]
  },
  {
   "cell_type": "code",
   "execution_count": 34,
   "id": "523d012e-2be1-43bd-8360-1b2666cb35ff",
   "metadata": {},
   "outputs": [],
   "source": [
    "import tkinter as tk\n",
    "\n",
    "app = tk.Tk()\n",
    "app.title(\"My Tkinter App\")\n",
    "app.geometry(\"400x300\")\n",
    "\n",
    "button1 = tk.Button(app, text=\"Top\", width=10)\n",
    "button1.pack(side=tk.TOP, pady=10)\n",
    "\n",
    "button2 = tk.Button(app, text=\"Bottom\", width=10)\n",
    "button2.pack(side=tk.BOTTOM, pady=10)\n",
    "\n",
    "button3 = tk.Button(app, text=\"Left\", width=10)\n",
    "button3.pack(side=tk.LEFT, padx=10)\n",
    "\n",
    "button4 = tk.Button(app, text=\"Right\", width=10)\n",
    "button4.pack(side=tk.RIGHT, padx=10)\n",
    "\n",
    "app.mainloop()"
   ]
  },
  {
   "cell_type": "code",
   "execution_count": 55,
   "id": "60ead8cb-451f-4303-96f5-bdf5722ff6b0",
   "metadata": {},
   "outputs": [],
   "source": [
    "# Adding Backgound colours in background"
   ]
  },
  {
   "cell_type": "code",
   "execution_count": 75,
   "id": "35c32e46-db25-4151-b0cb-4519dfff65a4",
   "metadata": {},
   "outputs": [],
   "source": [
    "import tkinter as tk\n",
    "\n",
    "app = tk.Tk()\n",
    "app.title(\"My Tkinter App\")\n",
    "app.geometry(\"400x300\")\n",
    "\n",
    "app.configure(bg=\"#abcdef\") \n",
    "\n",
    "button1 = tk.Button(app, text=\"Top\", width=10)\n",
    "button1.pack(side=tk.TOP, pady=10)\n",
    "\n",
    "button2 = tk.Button(app, text=\"Bottom\", width=10)\n",
    "button2.pack(side=tk.BOTTOM, pady=10)\n",
    "\n",
    "button3 = tk.Button(app, text=\"Left\", width=10)\n",
    "button3.pack(side=tk.LEFT, padx=10)\n",
    "\n",
    "button4 = tk.Button(app, text=\"Right\", width=10,font=(\"Arial\", 12))\n",
    "button4.pack(side=tk.RIGHT, padx=10)\n",
    "\n",
    "app.mainloop()"
   ]
  },
  {
   "cell_type": "code",
   "execution_count": 76,
   "id": "314d93fd-0ffd-49e0-9d07-2499636cede5",
   "metadata": {},
   "outputs": [],
   "source": [
    "import tkinter as tk\n",
    "\n",
    "app = tk.Tk()\n",
    "app.title(\"My Tkinter App\")\n",
    "app.geometry(\"400x300\")\n",
    "\n",
    "canvas = tk.Canvas(app, width=400, height=300, bg=\"#abcdef\")  # Hexadecimal notations\n",
    "canvas.pack()\n",
    "\n",
    "app.mainloop()"
   ]
  },
  {
   "cell_type": "code",
   "execution_count": 103,
   "id": "aed38561-427c-4ab0-8fd9-a43c083d9757",
   "metadata": {},
   "outputs": [],
   "source": [
    "# Applications"
   ]
  },
  {
   "cell_type": "code",
   "execution_count": 100,
   "id": "ef1a5293-5e8f-459a-ad07-59127707b677",
   "metadata": {},
   "outputs": [],
   "source": [
    "import tkinter as tk\n",
    "import random\n",
    "\n",
    "def change_color():\n",
    "    new_color = \"#{:06x}\".format(random.randint(0, 0xFFFFFF))  \n",
    "    app.configure(bg=new_color)  \n",
    "\n",
    "app = tk.Tk()\n",
    "app.title(\"Color Changer App\")\n",
    "app.geometry(\"300x200\")\n",
    "\n",
    "color_button = tk.Button(app, text=\"Change Color\", command=change_color)\n",
    "color_button.pack(pady=20)\n",
    "\n",
    "label = tk.Label(app, text=\"Click the button to change the color!\", font=(\"Arial\", 12))\n",
    "label.pack(pady=10)\n",
    "\n",
    "app.mainloop()"
   ]
  },
  {
   "cell_type": "code",
   "execution_count": 107,
   "id": "566b3b5e-5c1c-484f-8a9a-9aec14daee3c",
   "metadata": {},
   "outputs": [],
   "source": [
    "# Taking inputs"
   ]
  },
  {
   "cell_type": "code",
   "execution_count": 106,
   "id": "aade6fc4-5c91-4420-a7da-8c22a310226e",
   "metadata": {},
   "outputs": [],
   "source": [
    "import tkinter as tk\n",
    "from tkinter import messagebox\n",
    "\n",
    "class TodoApp:\n",
    "    def __init__(self, root):\n",
    "        self.root = root\n",
    "        self.root.title(\"To-Do List App\")\n",
    "        self.root.geometry(\"400x400\")\n",
    "\n",
    "        # Create a list to store tasks\n",
    "        self.tasks = []\n",
    "\n",
    "        # Create a label and entry for adding tasks\n",
    "        tk.Label(root, text=\"Add Task:\").pack(pady=10)\n",
    "        self.task_entry = tk.Entry(root, width=30)\n",
    "        self.task_entry.pack(pady=5)\n",
    "        \n",
    "        # Create a button to add tasks\n",
    "        tk.Button(root, text=\"Add Task\", command=self.add_task).pack(pady=5)\n",
    "\n",
    "        # Create a listbox to display tasks\n",
    "        self.task_listbox = tk.Listbox(root, selectmode=tk.SINGLE, height=10, width=40)\n",
    "        self.task_listbox.pack(pady=10)\n",
    "\n",
    "        # Create buttons for marking tasks as completed and deleting tasks\n",
    "        tk.Button(root, text=\"Mark Completed\", command=self.mark_completed).pack(pady=5)\n",
    "        tk.Button(root, text=\"Delete Task\", command=self.delete_task).pack(pady=5)\n",
    "\n",
    "        # Display initial tasks (for testing)\n",
    "        self.tasks = [\"Task 1\", \"Task 2\", \"Task 3\"]\n",
    "        self.update_task_listbox()\n",
    "\n",
    "    def add_task(self):\n",
    "        new_task = self.task_entry.get()\n",
    "        if new_task:\n",
    "            self.tasks.append(new_task)\n",
    "            self.update_task_listbox()\n",
    "            self.task_entry.delete(0, tk.END)  # Clear the entry field\n",
    "        else:\n",
    "            messagebox.showwarning(\"Empty Task\", \"Please enter a task.\")\n",
    "\n",
    "    def mark_completed(self):\n",
    "        selected_task_index = self.task_listbox.curselection()\n",
    "        if selected_task_index:\n",
    "            completed_task = self.tasks.pop(selected_task_index[0])\n",
    "            self.tasks.append(f\"✅ {completed_task}\")\n",
    "            self.update_task_listbox()\n",
    "\n",
    "    def delete_task(self):\n",
    "        selected_task_index = self.task_listbox.curselection()\n",
    "        if selected_task_index:\n",
    "            self.tasks.pop(selected_task_index[0])\n",
    "            self.update_task_listbox()\n",
    "\n",
    "    def update_task_listbox(self):\n",
    "        self.task_listbox.delete(0, tk.END)  # Clear the listbox\n",
    "        for task in self.tasks:\n",
    "            self.task_listbox.insert(tk.END, task)\n",
    "\n",
    "if __name__ == \"__main__\":\n",
    "    root = tk.Tk()\n",
    "    app = TodoApp(root)\n",
    "    root.mainloop()"
   ]
  }
 ],
 "metadata": {
  "kernelspec": {
   "display_name": "Python 3 (ipykernel)",
   "language": "python",
   "name": "python3"
  },
  "language_info": {
   "codemirror_mode": {
    "name": "ipython",
    "version": 3
   },
   "file_extension": ".py",
   "mimetype": "text/x-python",
   "name": "python",
   "nbconvert_exporter": "python",
   "pygments_lexer": "ipython3",
   "version": "3.11.5"
  }
 },
 "nbformat": 4,
 "nbformat_minor": 5
}
